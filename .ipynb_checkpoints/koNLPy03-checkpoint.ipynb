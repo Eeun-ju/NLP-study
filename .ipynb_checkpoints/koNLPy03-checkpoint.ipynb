{
 "cells": [
  {
   "cell_type": "code",
   "execution_count": 22,
   "metadata": {},
   "outputs": [],
   "source": [
    "import pandas as pd\n",
    "from konlpy.tag import Kkma\n",
    "import nltk"
   ]
  },
  {
   "cell_type": "code",
   "execution_count": 4,
   "metadata": {},
   "outputs": [
    {
     "data": {
      "text/plain": [
       "['한국어 분석을 시작합니다.', '기대되어요']"
      ]
     },
     "execution_count": 4,
     "metadata": {},
     "output_type": "execute_result"
    }
   ],
   "source": [
    "kkma = Kkma()\n",
    "example = '한국어 분석을 시작합니다. 기대되어요'\n",
    "kkma.sentences(example) #문장 분석 결과"
   ]
  },
  {
   "cell_type": "code",
   "execution_count": 5,
   "metadata": {},
   "outputs": [
    {
     "data": {
      "text/plain": [
       "['한국어', '분석']"
      ]
     },
     "execution_count": 5,
     "metadata": {},
     "output_type": "execute_result"
    }
   ],
   "source": [
    "kkma.nouns(example) #명사 분석 결과"
   ]
  },
  {
   "cell_type": "code",
   "execution_count": 6,
   "metadata": {},
   "outputs": [
    {
     "data": {
      "text/plain": [
       "[('한국어', 'NNG'),\n",
       " ('분석', 'NNG'),\n",
       " ('을', 'JKO'),\n",
       " ('시작하', 'VV'),\n",
       " ('ㅂ니다', 'EFN'),\n",
       " ('.', 'SF'),\n",
       " ('기대되', 'VV'),\n",
       " ('어요', 'EFN')]"
      ]
     },
     "execution_count": 6,
     "metadata": {},
     "output_type": "execute_result"
    }
   ],
   "source": [
    "kkma.pos(example) #형태소 분석 결과"
   ]
  },
  {
   "cell_type": "code",
   "execution_count": 14,
   "metadata": {},
   "outputs": [],
   "source": [
    "train = [('떼껄룩이 좋다','pos'),('고양이도 좋다','pos'),('난 수업이 지루하다','neg'),('떼껄룩은 사랑스러워','pos'),('나는 수업마치고 떼껄룩이랑 놀거야','pos'),('떼껄룩이 사고치면 화가나','neg')]"
   ]
  },
  {
   "cell_type": "code",
   "execution_count": 15,
   "metadata": {},
   "outputs": [],
   "source": [
    "def tokenize(doc):\n",
    "    return ['/'.join(t) for t in kkma.pos(doc)]\n",
    "train_docs = [(tokenize(row[0]),row[1]) for row in train]"
   ]
  },
  {
   "cell_type": "code",
   "execution_count": 16,
   "metadata": {},
   "outputs": [
    {
     "data": {
      "text/plain": [
       "[(['떼껄룩/UN', '이/JKS', '좋/VA', '다/EFN'], 'pos'),\n",
       " (['고양이/NNG', '도/JX', '좋/VA', '다/EFN'], 'pos'),\n",
       " (['낳/VV', 'ㄴ/ETD', '수업/NNG', '이/JKS', '지루/XR', '하/XSA', '다/EFN'], 'neg'),\n",
       " (['떼껄룩/UN', '은/JX', '사랑/NNG', '스럽/XSA', '어/ECS'], 'pos'),\n",
       " (['나/NP',\n",
       "   '는/JX',\n",
       "   '수업/NNG',\n",
       "   '마/NNG',\n",
       "   '치고/JX',\n",
       "   '떼껄룩/UN',\n",
       "   '이랑/JC',\n",
       "   '놀/VV',\n",
       "   'ㄹ/ETD',\n",
       "   '거/NNB',\n",
       "   '야/JX'],\n",
       "  'pos'),\n",
       " (['떼껄룩/UN', '이/JKS', '사고/NNG', '치/VV', '면/ECE', '화가/NNG', '낳/VV'], 'neg')]"
      ]
     },
     "execution_count": 16,
     "metadata": {},
     "output_type": "execute_result"
    }
   ],
   "source": [
    "train_docs"
   ]
  },
  {
   "cell_type": "code",
   "execution_count": 17,
   "metadata": {},
   "outputs": [],
   "source": [
    "tokens = [t for d in train_docs for t in d[0]]"
   ]
  },
  {
   "cell_type": "code",
   "execution_count": 18,
   "metadata": {},
   "outputs": [
    {
     "data": {
      "text/plain": [
       "['떼껄룩/UN',\n",
       " '이/JKS',\n",
       " '좋/VA',\n",
       " '다/EFN',\n",
       " '고양이/NNG',\n",
       " '도/JX',\n",
       " '좋/VA',\n",
       " '다/EFN',\n",
       " '낳/VV',\n",
       " 'ㄴ/ETD',\n",
       " '수업/NNG',\n",
       " '이/JKS',\n",
       " '지루/XR',\n",
       " '하/XSA',\n",
       " '다/EFN',\n",
       " '떼껄룩/UN',\n",
       " '은/JX',\n",
       " '사랑/NNG',\n",
       " '스럽/XSA',\n",
       " '어/ECS',\n",
       " '나/NP',\n",
       " '는/JX',\n",
       " '수업/NNG',\n",
       " '마/NNG',\n",
       " '치고/JX',\n",
       " '떼껄룩/UN',\n",
       " '이랑/JC',\n",
       " '놀/VV',\n",
       " 'ㄹ/ETD',\n",
       " '거/NNB',\n",
       " '야/JX',\n",
       " '떼껄룩/UN',\n",
       " '이/JKS',\n",
       " '사고/NNG',\n",
       " '치/VV',\n",
       " '면/ECE',\n",
       " '화가/NNG',\n",
       " '낳/VV']"
      ]
     },
     "execution_count": 18,
     "metadata": {},
     "output_type": "execute_result"
    }
   ],
   "source": [
    "tokens"
   ]
  },
  {
   "cell_type": "code",
   "execution_count": 19,
   "metadata": {},
   "outputs": [],
   "source": [
    "def term_exists(doc):\n",
    "    return {'exists({})'.format(word) : (word in set(doc)) for word in tokens}"
   ]
  },
  {
   "cell_type": "code",
   "execution_count": 20,
   "metadata": {},
   "outputs": [
    {
     "data": {
      "text/plain": [
       "[({'exists(떼껄룩/UN)': True,\n",
       "   'exists(이/JKS)': True,\n",
       "   'exists(좋/VA)': True,\n",
       "   'exists(다/EFN)': True,\n",
       "   'exists(고양이/NNG)': False,\n",
       "   'exists(도/JX)': False,\n",
       "   'exists(낳/VV)': False,\n",
       "   'exists(ㄴ/ETD)': False,\n",
       "   'exists(수업/NNG)': False,\n",
       "   'exists(지루/XR)': False,\n",
       "   'exists(하/XSA)': False,\n",
       "   'exists(은/JX)': False,\n",
       "   'exists(사랑/NNG)': False,\n",
       "   'exists(스럽/XSA)': False,\n",
       "   'exists(어/ECS)': False,\n",
       "   'exists(나/NP)': False,\n",
       "   'exists(는/JX)': False,\n",
       "   'exists(마/NNG)': False,\n",
       "   'exists(치고/JX)': False,\n",
       "   'exists(이랑/JC)': False,\n",
       "   'exists(놀/VV)': False,\n",
       "   'exists(ㄹ/ETD)': False,\n",
       "   'exists(거/NNB)': False,\n",
       "   'exists(야/JX)': False,\n",
       "   'exists(사고/NNG)': False,\n",
       "   'exists(치/VV)': False,\n",
       "   'exists(면/ECE)': False,\n",
       "   'exists(화가/NNG)': False},\n",
       "  'pos'),\n",
       " ({'exists(떼껄룩/UN)': False,\n",
       "   'exists(이/JKS)': False,\n",
       "   'exists(좋/VA)': True,\n",
       "   'exists(다/EFN)': True,\n",
       "   'exists(고양이/NNG)': True,\n",
       "   'exists(도/JX)': True,\n",
       "   'exists(낳/VV)': False,\n",
       "   'exists(ㄴ/ETD)': False,\n",
       "   'exists(수업/NNG)': False,\n",
       "   'exists(지루/XR)': False,\n",
       "   'exists(하/XSA)': False,\n",
       "   'exists(은/JX)': False,\n",
       "   'exists(사랑/NNG)': False,\n",
       "   'exists(스럽/XSA)': False,\n",
       "   'exists(어/ECS)': False,\n",
       "   'exists(나/NP)': False,\n",
       "   'exists(는/JX)': False,\n",
       "   'exists(마/NNG)': False,\n",
       "   'exists(치고/JX)': False,\n",
       "   'exists(이랑/JC)': False,\n",
       "   'exists(놀/VV)': False,\n",
       "   'exists(ㄹ/ETD)': False,\n",
       "   'exists(거/NNB)': False,\n",
       "   'exists(야/JX)': False,\n",
       "   'exists(사고/NNG)': False,\n",
       "   'exists(치/VV)': False,\n",
       "   'exists(면/ECE)': False,\n",
       "   'exists(화가/NNG)': False},\n",
       "  'pos'),\n",
       " ({'exists(떼껄룩/UN)': False,\n",
       "   'exists(이/JKS)': True,\n",
       "   'exists(좋/VA)': False,\n",
       "   'exists(다/EFN)': True,\n",
       "   'exists(고양이/NNG)': False,\n",
       "   'exists(도/JX)': False,\n",
       "   'exists(낳/VV)': True,\n",
       "   'exists(ㄴ/ETD)': True,\n",
       "   'exists(수업/NNG)': True,\n",
       "   'exists(지루/XR)': True,\n",
       "   'exists(하/XSA)': True,\n",
       "   'exists(은/JX)': False,\n",
       "   'exists(사랑/NNG)': False,\n",
       "   'exists(스럽/XSA)': False,\n",
       "   'exists(어/ECS)': False,\n",
       "   'exists(나/NP)': False,\n",
       "   'exists(는/JX)': False,\n",
       "   'exists(마/NNG)': False,\n",
       "   'exists(치고/JX)': False,\n",
       "   'exists(이랑/JC)': False,\n",
       "   'exists(놀/VV)': False,\n",
       "   'exists(ㄹ/ETD)': False,\n",
       "   'exists(거/NNB)': False,\n",
       "   'exists(야/JX)': False,\n",
       "   'exists(사고/NNG)': False,\n",
       "   'exists(치/VV)': False,\n",
       "   'exists(면/ECE)': False,\n",
       "   'exists(화가/NNG)': False},\n",
       "  'neg'),\n",
       " ({'exists(떼껄룩/UN)': True,\n",
       "   'exists(이/JKS)': False,\n",
       "   'exists(좋/VA)': False,\n",
       "   'exists(다/EFN)': False,\n",
       "   'exists(고양이/NNG)': False,\n",
       "   'exists(도/JX)': False,\n",
       "   'exists(낳/VV)': False,\n",
       "   'exists(ㄴ/ETD)': False,\n",
       "   'exists(수업/NNG)': False,\n",
       "   'exists(지루/XR)': False,\n",
       "   'exists(하/XSA)': False,\n",
       "   'exists(은/JX)': True,\n",
       "   'exists(사랑/NNG)': True,\n",
       "   'exists(스럽/XSA)': True,\n",
       "   'exists(어/ECS)': True,\n",
       "   'exists(나/NP)': False,\n",
       "   'exists(는/JX)': False,\n",
       "   'exists(마/NNG)': False,\n",
       "   'exists(치고/JX)': False,\n",
       "   'exists(이랑/JC)': False,\n",
       "   'exists(놀/VV)': False,\n",
       "   'exists(ㄹ/ETD)': False,\n",
       "   'exists(거/NNB)': False,\n",
       "   'exists(야/JX)': False,\n",
       "   'exists(사고/NNG)': False,\n",
       "   'exists(치/VV)': False,\n",
       "   'exists(면/ECE)': False,\n",
       "   'exists(화가/NNG)': False},\n",
       "  'pos'),\n",
       " ({'exists(떼껄룩/UN)': True,\n",
       "   'exists(이/JKS)': False,\n",
       "   'exists(좋/VA)': False,\n",
       "   'exists(다/EFN)': False,\n",
       "   'exists(고양이/NNG)': False,\n",
       "   'exists(도/JX)': False,\n",
       "   'exists(낳/VV)': False,\n",
       "   'exists(ㄴ/ETD)': False,\n",
       "   'exists(수업/NNG)': True,\n",
       "   'exists(지루/XR)': False,\n",
       "   'exists(하/XSA)': False,\n",
       "   'exists(은/JX)': False,\n",
       "   'exists(사랑/NNG)': False,\n",
       "   'exists(스럽/XSA)': False,\n",
       "   'exists(어/ECS)': False,\n",
       "   'exists(나/NP)': True,\n",
       "   'exists(는/JX)': True,\n",
       "   'exists(마/NNG)': True,\n",
       "   'exists(치고/JX)': True,\n",
       "   'exists(이랑/JC)': True,\n",
       "   'exists(놀/VV)': True,\n",
       "   'exists(ㄹ/ETD)': True,\n",
       "   'exists(거/NNB)': True,\n",
       "   'exists(야/JX)': True,\n",
       "   'exists(사고/NNG)': False,\n",
       "   'exists(치/VV)': False,\n",
       "   'exists(면/ECE)': False,\n",
       "   'exists(화가/NNG)': False},\n",
       "  'pos'),\n",
       " ({'exists(떼껄룩/UN)': True,\n",
       "   'exists(이/JKS)': True,\n",
       "   'exists(좋/VA)': False,\n",
       "   'exists(다/EFN)': False,\n",
       "   'exists(고양이/NNG)': False,\n",
       "   'exists(도/JX)': False,\n",
       "   'exists(낳/VV)': True,\n",
       "   'exists(ㄴ/ETD)': False,\n",
       "   'exists(수업/NNG)': False,\n",
       "   'exists(지루/XR)': False,\n",
       "   'exists(하/XSA)': False,\n",
       "   'exists(은/JX)': False,\n",
       "   'exists(사랑/NNG)': False,\n",
       "   'exists(스럽/XSA)': False,\n",
       "   'exists(어/ECS)': False,\n",
       "   'exists(나/NP)': False,\n",
       "   'exists(는/JX)': False,\n",
       "   'exists(마/NNG)': False,\n",
       "   'exists(치고/JX)': False,\n",
       "   'exists(이랑/JC)': False,\n",
       "   'exists(놀/VV)': False,\n",
       "   'exists(ㄹ/ETD)': False,\n",
       "   'exists(거/NNB)': False,\n",
       "   'exists(야/JX)': False,\n",
       "   'exists(사고/NNG)': True,\n",
       "   'exists(치/VV)': True,\n",
       "   'exists(면/ECE)': True,\n",
       "   'exists(화가/NNG)': True},\n",
       "  'neg')]"
      ]
     },
     "execution_count": 20,
     "metadata": {},
     "output_type": "execute_result"
    }
   ],
   "source": [
    "train_xy = [(term_exists(d),c) for d,c in train_docs]\n",
    "train_xy"
   ]
  },
  {
   "cell_type": "code",
   "execution_count": 23,
   "metadata": {},
   "outputs": [],
   "source": [
    "classifier = nltk.NaiveBayesClassifier.train(train_xy)"
   ]
  },
  {
   "cell_type": "code",
   "execution_count": 24,
   "metadata": {},
   "outputs": [
    {
     "name": "stdout",
     "output_type": "stream",
     "text": [
      "Most Informative Features\n",
      "           exists(이/JKS) = True              neg : pos    =      2.8 : 1.0\n",
      "          exists(화가/NNG) = False             pos : neg    =      1.8 : 1.0\n",
      "           exists(면/ECE) = False             pos : neg    =      1.8 : 1.0\n",
      "           exists(하/XSA) = False             pos : neg    =      1.8 : 1.0\n",
      "           exists(지루/XR) = False             pos : neg    =      1.8 : 1.0\n",
      "          exists(사고/NNG) = False             pos : neg    =      1.8 : 1.0\n",
      "           exists(ㄴ/ETD) = False             pos : neg    =      1.8 : 1.0\n",
      "            exists(치/VV) = False             pos : neg    =      1.8 : 1.0\n",
      "          exists(떼껄룩/UN) = False             neg : pos    =      1.7 : 1.0\n",
      "          exists(수업/NNG) = True              neg : pos    =      1.7 : 1.0\n"
     ]
    }
   ],
   "source": [
    "classifier.show_most_informative_features()"
   ]
  },
  {
   "cell_type": "code",
   "execution_count": 25,
   "metadata": {},
   "outputs": [
    {
     "data": {
      "text/plain": [
       "['나/NP',\n",
       " '는/JX',\n",
       " '수업/NNG',\n",
       " '을/JKO',\n",
       " '마치/VV',\n",
       " '면/ECE',\n",
       " '떼껄룩/UN',\n",
       " '이랑/JC',\n",
       " '놀/VV',\n",
       " 'ㄹ/ETD',\n",
       " '거/NNB',\n",
       " '야/JX']"
      ]
     },
     "execution_count": 25,
     "metadata": {},
     "output_type": "execute_result"
    }
   ],
   "source": [
    "test_sentence = ['나는 수업을 마치면 떼껄룩이랑 놀거야']\n",
    "test_docs = tokenize(test_sentence[0])\n",
    "test_docs"
   ]
  },
  {
   "cell_type": "code",
   "execution_count": 26,
   "metadata": {},
   "outputs": [
    {
     "data": {
      "text/plain": [
       "{'나/NP': True,\n",
       " '는/JX': True,\n",
       " '수업/NNG': True,\n",
       " '을/JKO': False,\n",
       " '마치/VV': False,\n",
       " '면/ECE': True,\n",
       " '떼껄룩/UN': True,\n",
       " '이랑/JC': True,\n",
       " '놀/VV': True,\n",
       " 'ㄹ/ETD': True,\n",
       " '거/NNB': True,\n",
       " '야/JX': True}"
      ]
     },
     "execution_count": 26,
     "metadata": {},
     "output_type": "execute_result"
    }
   ],
   "source": [
    "test_sent_features = {word: (word in tokens) for word in test_docs}\n",
    "test_sent_features"
   ]
  },
  {
   "cell_type": "code",
   "execution_count": 27,
   "metadata": {},
   "outputs": [
    {
     "data": {
      "text/plain": [
       "'pos'"
      ]
     },
     "execution_count": 27,
     "metadata": {},
     "output_type": "execute_result"
    }
   ],
   "source": [
    "classifier.classify(test_sent_features)"
   ]
  },
  {
   "cell_type": "code",
   "execution_count": null,
   "metadata": {},
   "outputs": [],
   "source": []
  }
 ],
 "metadata": {
  "kernelspec": {
   "display_name": "Python 3",
   "language": "python",
   "name": "python3"
  },
  "language_info": {
   "codemirror_mode": {
    "name": "ipython",
    "version": 3
   },
   "file_extension": ".py",
   "mimetype": "text/x-python",
   "name": "python",
   "nbconvert_exporter": "python",
   "pygments_lexer": "ipython3",
   "version": "3.7.1"
  }
 },
 "nbformat": 4,
 "nbformat_minor": 2
}
