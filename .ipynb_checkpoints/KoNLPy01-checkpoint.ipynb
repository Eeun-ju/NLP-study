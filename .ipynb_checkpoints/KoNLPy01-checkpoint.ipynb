{
 "cells": [
  {
   "cell_type": "markdown",
   "metadata": {},
   "source": [
    "# KoNLPy"
   ]
  },
  {
   "cell_type": "markdown",
   "metadata": {},
   "source": [
    "    KoNLPy는 한국어 정보처리를 위한 패키지이다. 제공하는 데이터셋은 kolaw(헌법 말뭉치) kobill(국회법안 말뭉치)이다. \n",
    "    \n",
    "    다양한 형태소 분석이 가능하다.nouns(명사 추출), morphs(형태소 추출),pos(품사 부착)\n",
    "    Hannanum,Kkma,Komoran,Okt 등 tag 사용을 통해 형태소 분석이 이뤄진다.\n",
    "    \n",
    "    공통\n",
    "    morphs(text) : 텍스트에서 형태소 반환\n",
    "    nouns(text) : 텍스트에서 명사 반환\n",
    "    pos(text) : 품사 정보 분착 후 반환\n",
    "    \n",
    "    Hannanum\n",
    "    analyze(text) : 토큰에 대해 다양한 형태로 반환\n",
    "    \n",
    "    Kkma\n",
    "    sentences(text) : 문장별로 반환\n",
    "    \n",
    "    Okt\n",
    "    phrases(text) : 텍스트에서 어절을 뽑아낸다.\n"
   ]
  },
  {
   "cell_type": "code",
   "execution_count": 2,
   "metadata": {},
   "outputs": [],
   "source": [
    "import warnings\n",
    "warnings.simplefilter(\"ignore\")\n",
    "import konlpy\n",
    "from konlpy.corpus import kolaw"
   ]
  },
  {
   "cell_type": "code",
   "execution_count": 3,
   "metadata": {},
   "outputs": [],
   "source": [
    "c = kolaw.open(kolaw.fileids()[0]).read()\n",
    "print(c[:40])"
   ]
  },
  {
   "cell_type": "code",
   "execution_count": 12,
   "metadata": {},
   "outputs": [],
   "source": [
    "from konlpy.tag import Komoran\n",
    "from konlpy.tag import Okt\n",
    "from konlpy.tag import Kkma\n",
    "from konlpy.tag import Hannanum\n",
    "hannanum = Hannanum()\n",
    "kkma = Kkma()\n",
    "komoran = Komoran()\n",
    "okt = Okt()"
   ]
  },
  {
   "cell_type": "code",
   "execution_count": 6,
   "metadata": {},
   "outputs": [
    {
     "name": "stdout",
     "output_type": "stream",
     "text": [
      "['바빈스', '커피', '에서', '아이스', '자몽', '차']\n",
      "['노트북', '삼성', '노트북']\n",
      "[('한글', 'NNP'), ('형태소', 'NNP'), ('분석기', 'NNG'), ('테스트', 'NNP')]\n"
     ]
    }
   ],
   "source": [
    "print(komoran.morphs(u'바빈스 커피에서 아이스 자몽차'))\n",
    "print(komoran.nouns(u'노트북은 삼성 노트북'))\n",
    "print(komoran.pos(u'한글형태소분석기 테스트'))"
   ]
  },
  {
   "cell_type": "code",
   "execution_count": 9,
   "metadata": {},
   "outputs": [
    {
     "name": "stdout",
     "output_type": "stream",
     "text": [
      "['대한민국', '헌법', '역사', '전통', '국민', '운동']\n"
     ]
    }
   ],
   "source": [
    "print(komoran.nouns(u'%s'%c[:40]))"
   ]
  },
  {
   "cell_type": "markdown",
   "metadata": {},
   "source": [
    "+ 아버지가방에들어가신다\n",
    "+ 나는 밥을 먹는다 \n",
    "+ 하늘을 나는 자동차"
   ]
  },
  {
   "cell_type": "code",
   "execution_count": 13,
   "metadata": {},
   "outputs": [],
   "source": [
    "st = ['아버지가방에들어가신다','나는 밥을 먹는다','하늘을 나는 자동차','빨리 취업해서 돈 벌어야지']"
   ]
  },
  {
   "cell_type": "code",
   "execution_count": 21,
   "metadata": {},
   "outputs": [
    {
     "name": "stdout",
     "output_type": "stream",
     "text": [
      "아버지가방에들어가신다\n",
      "Hannanum :  [('아버지가방에들어가', 'N'), ('이', 'J'), ('시ㄴ다', 'E')]\n",
      "Kkma :  [('아버지', 'NNG'), ('가방', 'NNG'), ('에', 'JKM'), ('들어가', 'VV'), ('시', 'EPH'), ('ㄴ다', 'EFN')]\n",
      "Komaran :  [('아버지', 'NNG'), ('가방', 'NNP'), ('에', 'JKB'), ('들어가', 'VV'), ('시', 'EP'), ('ㄴ다', 'EC')]\n",
      "Okt :  [('아버지', 'Noun'), ('가방', 'Noun'), ('에', 'Josa'), ('들어가신다', 'Verb')]\n",
      "\n",
      "나는 밥을 먹는다\n",
      "Hannanum :  [('나', 'N'), ('는', 'J'), ('밥', 'N'), ('을', 'J'), ('먹', 'P'), ('는다', 'E')]\n",
      "Kkma :  [('나', 'NP'), ('는', 'JX'), ('밥', 'NNG'), ('을', 'JKO'), ('먹', 'VV'), ('는', 'EPT'), ('다', 'EFN')]\n",
      "Komaran :  [('나', 'NP'), ('는', 'JX'), ('밥', 'NNG'), ('을', 'JKO'), ('먹', 'VV'), ('는다', 'EC')]\n",
      "Okt :  [('나', 'Noun'), ('는', 'Josa'), ('밥', 'Noun'), ('을', 'Josa'), ('먹는다', 'Verb')]\n",
      "\n",
      "하늘을 나는 자동차\n",
      "Hannanum :  [('하늘', 'N'), ('을', 'J'), ('나', 'N'), ('는', 'J'), ('자동차', 'N')]\n",
      "Kkma :  [('하늘', 'NNG'), ('을', 'JKO'), ('날', 'VV'), ('는', 'ETD'), ('자동차', 'NNG')]\n",
      "Komaran :  [('하늘', 'NNG'), ('을', 'JKO'), ('나', 'NP'), ('는', 'JX'), ('자동차', 'NNG')]\n",
      "Okt :  [('하늘', 'Noun'), ('을', 'Josa'), ('나', 'Noun'), ('는', 'Josa'), ('자동차', 'Noun')]\n",
      "\n",
      "빨리 취업해서 돈 벌어야지\n",
      "Hannanum :  [('빨리', 'M'), ('취업', 'N'), ('하', 'X'), ('어서', 'E'), ('돌', 'P'), ('ㄴ', 'E'), ('벌', 'P'), ('어야지', 'E')]\n",
      "Kkma :  [('빨리', 'MAG'), ('취업', 'NNG'), ('하', 'XSV'), ('어서', 'ECD'), ('돈', 'NNG'), ('벋', 'VV'), ('어야지', 'EFN')]\n",
      "Komaran :  [('빨리', 'MAG'), ('취업', 'NNG'), ('하', 'XSV'), ('아서', 'EC'), ('돈', 'NNG'), ('벌', 'VV'), ('어야지', 'EC')]\n",
      "Okt :  [('빨리', 'Adverb'), ('취업', 'Noun'), ('해서', 'Verb'), ('돈', 'Noun'), ('벌어야지', 'Verb')]\n",
      "\n"
     ]
    }
   ],
   "source": [
    "for i in st:\n",
    "    print(i)\n",
    "    print('Hannanum : ',hannanum.pos(u'%s'%i))\n",
    "    print('Kkma : ',kkma.pos(u'%s'%i))\n",
    "    print('Komaran : ',komoran.pos(u'%s'%i))\n",
    "    print('Okt : ',okt.pos(u'%s'%i))\n",
    "    print()"
   ]
  },
  {
   "cell_type": "code",
   "execution_count": null,
   "metadata": {},
   "outputs": [],
   "source": []
  }
 ],
 "metadata": {
  "kernelspec": {
   "display_name": "Python 3",
   "language": "python",
   "name": "python3"
  },
  "language_info": {
   "codemirror_mode": {
    "name": "ipython",
    "version": 3
   },
   "file_extension": ".py",
   "mimetype": "text/x-python",
   "name": "python",
   "nbconvert_exporter": "python",
   "pygments_lexer": "ipython3",
   "version": "3.7.1"
  }
 },
 "nbformat": 4,
 "nbformat_minor": 2
}
