{
 "cells": [
  {
   "cell_type": "code",
   "execution_count": 14,
   "metadata": {},
   "outputs": [],
   "source": [
    "import re\n",
    "import nltk"
   ]
  },
  {
   "cell_type": "markdown",
   "metadata": {},
   "source": [
    "#### 영어 이름에서 a,e,i로 끝나면 여성 k,o,r,s,t로 끝나면 남성일 가능성이 크다는 것은 알려진 사실이다. \n",
    "#### 기존 사실을 사용하기 위해 이름의 마지막 알파벳을 가져오는 함수를 이용한다"
   ]
  },
  {
   "cell_type": "code",
   "execution_count": 15,
   "metadata": {},
   "outputs": [],
   "source": [
    "def gender_features(word):\n",
    "    return {'last_letter': re.sub('[0-9]', '', word)[-1].lower()}"
   ]
  },
  {
   "cell_type": "code",
   "execution_count": 16,
   "metadata": {},
   "outputs": [
    {
     "data": {
      "text/plain": [
       "{'last_letter': 'u'}"
      ]
     },
     "execution_count": 16,
     "metadata": {},
     "output_type": "execute_result"
    }
   ],
   "source": [
    "gender_features('eunju')"
   ]
  },
  {
   "cell_type": "code",
   "execution_count": 17,
   "metadata": {},
   "outputs": [],
   "source": [
    "male_names = [(name, 'male') for name in open('male.txt').read().split('\\n')]\n",
    "male_names.remove(('', 'male'))\n",
    "\n",
    "female_names = [(name, 'female') for name in open('female.txt').read().split('\\n')]\n",
    "female_names.remove((('', 'female')))"
   ]
  },
  {
   "cell_type": "code",
   "execution_count": 18,
   "metadata": {},
   "outputs": [],
   "source": [
    "# 하나의 데이터로 합치기\n",
    "labeled_names = male_names + female_names\n",
    "# 성별 섞기\n",
    "import random\n",
    "random.shuffle(labeled_names)"
   ]
  },
  {
   "cell_type": "code",
   "execution_count": 19,
   "metadata": {},
   "outputs": [
    {
     "data": {
      "text/plain": [
       "[({'last_letter': 'y'}, 'male'),\n",
       " ({'last_letter': 'a'}, 'female'),\n",
       " ({'last_letter': 'a'}, 'female'),\n",
       " ({'last_letter': 'h'}, 'male'),\n",
       " ({'last_letter': 'a'}, 'female'),\n",
       " ({'last_letter': 'e'}, 'female'),\n",
       " ({'last_letter': 's'}, 'male'),\n",
       " ({'last_letter': 'a'}, 'female'),\n",
       " ({'last_letter': 'e'}, 'male'),\n",
       " ({'last_letter': 'y'}, 'female')]"
      ]
     },
     "execution_count": 19,
     "metadata": {},
     "output_type": "execute_result"
    }
   ],
   "source": [
    "featuresets = [(gender_features(n), gender) for (n, gender) in labeled_names]\n",
    "featuresets[:10]"
   ]
  },
  {
   "cell_type": "code",
   "execution_count": 20,
   "metadata": {},
   "outputs": [],
   "source": [
    "# 나이브 베이즈 분류기의 학습과 정확도\n",
    "train_set, test_set = featuresets[500:],featuresets[:500]\n",
    "classifier = nltk.NaiveBayesClassifier.train(train_set)"
   ]
  },
  {
   "cell_type": "code",
   "execution_count": 21,
   "metadata": {},
   "outputs": [
    {
     "data": {
      "text/plain": [
       "0.752"
      ]
     },
     "execution_count": 21,
     "metadata": {},
     "output_type": "execute_result"
    }
   ],
   "source": [
    "nltk.classify.accuracy(classifier,test_set)"
   ]
  },
  {
   "cell_type": "code",
   "execution_count": 22,
   "metadata": {},
   "outputs": [
    {
     "name": "stdout",
     "output_type": "stream",
     "text": [
      "Most Informative Features\n",
      "             last_letter = 'a'            female : male   =     36.5 : 1.0\n",
      "             last_letter = 'k'              male : female =     31.2 : 1.0\n",
      "             last_letter = 'v'              male : female =     17.8 : 1.0\n",
      "             last_letter = 'f'              male : female =     16.2 : 1.0\n",
      "             last_letter = 'p'              male : female =     10.7 : 1.0\n",
      "             last_letter = 'd'              male : female =      9.8 : 1.0\n",
      "             last_letter = 'm'              male : female =      8.3 : 1.0\n",
      "             last_letter = 'o'              male : female =      8.2 : 1.0\n",
      "             last_letter = 'r'              male : female =      6.9 : 1.0\n",
      "             last_letter = 'w'              male : female =      6.3 : 1.0\n"
     ]
    }
   ],
   "source": [
    "classifier.show_most_informative_features()\n",
    "# last_leffer = 'a' 이면 여성이 확률 37.3%"
   ]
  },
  {
   "cell_type": "code",
   "execution_count": 23,
   "metadata": {},
   "outputs": [
    {
     "data": {
      "text/plain": [
       "'male'"
      ]
     },
     "execution_count": 23,
     "metadata": {},
     "output_type": "execute_result"
    }
   ],
   "source": [
    "classifier.classify(gender_features('Eunju')) #한국 이름에서는 정확하지 않음"
   ]
  },
  {
   "cell_type": "code",
   "execution_count": 24,
   "metadata": {},
   "outputs": [
    {
     "data": {
      "text/plain": [
       "0.7894736842105263"
      ]
     },
     "execution_count": 24,
     "metadata": {},
     "output_type": "execute_result"
    }
   ],
   "source": [
    "#예쁜 여자 영어이름 모음 a2z list\n",
    "#https://m.blog.naver.com/ruge0401/221177878490\n",
    "#https://themomstory.co.kr/%EB%82%A8%EC%9E%90%EC%98%81%EC%96%B4%EC%9D%B4%EB%A6%84/\n",
    "names = [('Aiden', 'male'),('Andew', 'male'),('Adrian', 'male'),('Antonio', 'male'),\n",
    "        ('Bentley', 'male'),('Brody', 'male'),('Chistopher', 'male'),('Colin', 'male'),\n",
    "        ('Dominick', 'male'),('Ethan', 'male'),('Adela', 'female'),('Ann', 'female'),\n",
    "        ('Bessie', 'female'),('Cindy', 'female'),('Daisy', 'female'),('Eva', 'female'),\n",
    "        ('Frances', 'female'),('Hera', 'female'),('Irene', 'female')]\n",
    "test_names = [(gender_features(n), gender) for (n, gender) in names]\n",
    "nltk.classify.accuracy(classifier,test_names) #한국 이름에서는 정확하지 않음"
   ]
  }
 ],
 "metadata": {
  "kernelspec": {
   "display_name": "Python 3",
   "language": "python",
   "name": "python3"
  },
  "language_info": {
   "codemirror_mode": {
    "name": "ipython",
    "version": 3
   },
   "file_extension": ".py",
   "mimetype": "text/x-python",
   "name": "python",
   "nbconvert_exporter": "python",
   "pygments_lexer": "ipython3",
   "version": "3.7.1"
  }
 },
 "nbformat": 4,
 "nbformat_minor": 2
}
